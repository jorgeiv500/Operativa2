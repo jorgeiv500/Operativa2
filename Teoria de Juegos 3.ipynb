{
 "cells": [
  {
   "cell_type": "markdown",
   "metadata": {},
   "source": [
    "<a rel=\"license\" href=\"http://creativecommons.org/licenses/by-sa/4.0/\"><img alt=\"Creative Commons License\" style=\"border-width:0\" src=\"https://i.creativecommons.org/l/by-sa/4.0/88x31.png\" /></a><br />This work is licensed under a <a rel=\"license\" href=\"http://creativecommons.org/licenses/by-sa/4.0/\">Creative Commons Attribution-ShareAlike 4.0 International License</a>.\n",
    "\n",
    "\n",
    "\n",
    "<div class=\"jumbotron text-center\">\n",
    "\n",
    "<img src=\"https://www.cemarin.org/wp-content/uploads/2017/09/Logo-UTADEO-horizontal-600x127.png\" style=\"height:1cm; width:auto\" src=\"/images/juliaopt.svg\">\n",
    "    <h1>INVESTIGACION DE OPERACIONES II</h1>\n",
    "    <p><strong>Tema:📏🏫👨‍🏫</strong> </p>\n",
    "    <p>\n",
    "    Teoria de Juegos 3 - Solución de juegos por medio de programación lineal 🎲</p>\n",
    "    <img src=\"https://vknight.org/Year_3_game_theory_course/Content/images/L10-img01.png\" style=\"height: 10em; width:auto\" src=\"/images/juliaopt.svg\">\n",
    "  </div>\n"
   ]
  },
  {
   "attachments": {},
   "cell_type": "markdown",
   "metadata": {},
   "source": [
    "\n"
   ]
  },
  {
   "cell_type": "markdown",
   "metadata": {},
   "source": [
    "## 🎲🎲🎲 Solución de juegos por medio de programación lineal🎲🎲🎲\n",
    "\n",
    "> La teoría de juegos está estrechamente relacionada con la PL en el sentido de que cualquier juego de suma\n",
    "cero entre dos personas puede expresarse como un programa lineal, y viceversa. De\n",
    "hecho, **G. Dantzig (1963, pág. 24)** expresa que cuando **J. von Neumann**, padre de la\n",
    "teoría de juegos, la introdujo por primera vez al método simplex en 1947, de inmediato\n",
    "reconoció esta relación y además precisó y recalcó el concepto de dualidad en la\n",
    "programación lineal. Esta sección explica cómo se resuelven los juegos mediante PL.\n",
    "\n",
    "  \n",
    "<h1>\n",
    "Estrategia para juegos con dos jugadores:🕹️🙋🏾‍♂️VS 🕹️🙋🏼‍♂️\n",
    "</h1>\n",
    "\n",
    "\n",
    "> Las probabilidades óptimas del jugador $A, x1, x2,…, y$ $x_{m},$ pueden determinarse\n",
    "resolviendo el siguiente problema $maximin$:\n",
    "\n",
    "_______________________________________________\n",
    "\n",
    "$$\n",
    "\\begin{array}{c}\n",
    "\\operatorname{máx}_{x_{i}}\\left\\{\\min \\left(\\sum_{i=l}^{m} a_{i 1} x_{i}, \\sum_{i=1}^{m} a_{i 2} x_{i}, \\ldots, \\sum_{i=1}^{m} a_{i n} x_{i}\\right)\\right\\} \\\\\n",
    "x_{1}+x_{2}+\\cdots+x_{m}=1 \\\\\n",
    "x_{i} \\geq 0, i=1,2, \\ldots, m\n",
    "\\end{array}\n",
    "$$\n",
    "\n",
    "Sea\n",
    "\n",
    "$$\n",
    "v=\\min \\left\\{\\sum_{i=1}^{m} a_{i 1} x_{i}, \\sum_{i=1}^{m} a_{i 2} x_{i}, \\ldots, \\sum_{i=1}^{m} a_{i n} x_{i}\\right\\}\n",
    "$$\n",
    "\n",
    "La ecuacion implica que\n",
    "\n",
    "$$\n",
    "\\sum_{i=1}^{m} a_{i j} x_{i} \\geq v, j=1,2, \\ldots, n\n",
    "$$\n",
    "\n",
    "_______________________________\n",
    "\n",
    "<div class=\"alert alert-info\" role=\"alert\">\n",
    "🚨🚨🚨 <strong>ATENCION!!!</strong>  🚨🚨🚨 \n",
    "    \n",
    "</div>\n",
    "\n",
    "> <h2> El problema del <strong>jugador A </strong> 🕹️🙋🏾‍♂️🕹️  puede escribirse por lo tanto como...</h2>\n",
    "\n",
    "\n",
    "___________________________________________________________\n",
    "$$\n",
    "\\begin{array}{c}\n",
    "👉\\operatorname{Maximizar} z=v\n",
    "\\end{array}\n",
    "$$\n",
    "\n",
    "Sujeto a\n",
    "$$\n",
    "\\begin{array}{c}\n",
    "v-\\sum_{i=1}^{m} a_{i j} x_{i} \\leq 0, j=1,2, \\ldots, n\\\\\n",
    "x_{1}+x_{2}+\\ldots+x_{m}=1\\\\\n",
    "x_{i} \\geq 0, i=1,2, \\ldots, m\\\\\n",
    "v \\ \\ irrestricta\n",
    "\\end{array}\n",
    "$$\n",
    "\n",
    "________________________________________________________\n",
    "\n",
    "<div class=\"alert alert-info\" role=\"alert\">\n",
    "🚨🚨🚨 <strong>ATENCION!!!</strong> 🚨🚨🚨  \n",
    "    </div>\n",
    "\n",
    "> Observe que el valor del juego, la variable v, no está restringida en cuanto a signo.\n",
    "Las estrategias óptimas del <strong>jugador B</strong> 🕹️🙋🏼‍♂️🕹️ $y1, y2,…, y$ $y_{n}$, se determinan resolviendo el problema...\n",
    "\n",
    "$$\n",
    "\\begin{array}{c}\n",
    "\\min _{y_{j}}\\left\\{\\operatorname{máx}\\left(\\sum_{j=1}^{n} a_{1 j} y_{j}, \\sum_{j=1}^{n} a_{2 j} y_{j}, \\ldots, \\sum_{j=1}^{n} a_{m j} y_{j}\\right)\\right\\} \\\\\n",
    "y_{1}+y_{2}+\\cdots+y_{n}=1 \\\\\n",
    "y_{j} \\geq 0, j=1,2, \\ldots, n\n",
    "\\end{array}\n",
    "$$\n",
    "\n",
    "> Utilizando un procedimiento similar al del jugador $A$, el problema de $B$ se reduce a...\n",
    "__________________________________________________\n",
    "$$\n",
    "\\begin{array}{c}\n",
    " 👉\\operatorname{Minimizar} w=v\n",
    "\\end{array}\n",
    "$$\n",
    "\n",
    "Sujeto a\n",
    "\n",
    "$$\n",
    "\\begin{array}{c}\n",
    "v-\\sum_{j=1}^{n} a_{i j} y_{j} \\geq 0, i=1,2, \\ldots, n \\\\\n",
    "y_{1}+y_{2}+\\ldots+y_{n}=1 \\\\\n",
    "y_{j} \\geq 0, j=1,2, \\ldots, n\\\\\n",
    "v \\ \\ irrestricta\n",
    "\\end{array}\n",
    "$$\n",
    "\n",
    "_____________________\n",
    "\n",
    "#### 💡Los dos problemas optimizan la misma variable v (irrestricta), el valor del juego.💡\n",
    "\n",
    "👉La razón 🤔 es que el problema de $B$ es el dual del problema de $A$. \n",
    "\n",
    "👉👉Esto significa que la solución óptima de un problema da automáticamente la solución óptima del otro.🤯"
   ]
  },
  {
   "cell_type": "markdown",
   "metadata": {},
   "source": [
    "## Evaluemos un ejemplo a continuacion: ✏️\n",
    "**Ejemplo 15.4-4 del libro de Taha Hamdy 9 ed**\n",
    "\n",
    "Resuelva el siguiente juego mediante programación lineal. El valor del juego, $v$, queda entre -2 y 2.\n",
    "\n",
    "\n",
    "|         \t    | $B_{1}$ \t| $B_{2}$ \t| $B_{3}$ \t| Fila mín \t|\n",
    "|:----------:\t|:--:\t|:--:\t|:--:\t|:--------:\t|\n",
    "|   **$A_{1}$**   \t|  3 \t| -1 \t| -3 \t|    -3    \t|\n",
    "|   **$A_{2}$**   \t| -2 \t|  4 \t| -1 \t|    **-2**    \t|\n",
    "|   **$A_{3}$**   \t| -5 \t| -6 \t|  2 \t|    -6    \t|\n",
    "| **Col max** \t| 3 \t|  4 \t|  **2** \t|          \t|\n",
    "\n",
    "___________________________\n",
    "\n",
    "\n",
    "## FORMULACION - JUGADOR A\n",
    "$$\n",
    "\\begin{array}{c}\n",
    " 👉\\operatorname{Maximizar} z=v\n",
    "\\end{array}\n",
    "$$ \n",
    "\n",
    "Sujeto a \n",
    "\n",
    "$$\n",
    "\\begin{array}{c}\n",
    "v-3 x_{1}+2 x_{2}+5 x_{3} \\leq 0\\\\\n",
    "v+x_{1}-4 x_{2}+6 x_{3} \\leq 0\\\\\n",
    "v+3 x_{1}+x_{2}-2 x_{3} \\leq 0\\\\\n",
    "x_{1}+x_{2}+x_{3}=1\\\\\n",
    "x_{1}, x_{2}, x_{3} \\geq 0\\\\\n",
    "v \\ \\ irrestricta\n",
    "\\end{array}\n",
    "$$ \n"
   ]
  },
  {
   "cell_type": "code",
   "execution_count": 15,
   "metadata": {},
   "outputs": [
    {
     "name": "stderr",
     "output_type": "stream",
     "text": [
      "┌ Warning: Deprecated syntax `implicit assignment to global variable `#635###683``.\n",
      "│ Use `global #635###683` instead.\n",
      "└ @ nothing none:0\n",
      "┌ Warning: Deprecated syntax `implicit assignment to global variable `#635###683``.\n",
      "│ Use `global #635###683` instead.\n",
      "└ @ nothing none:0\n"
     ]
    },
    {
     "name": "stdout",
     "output_type": "stream",
     "text": [
      "Max v\n",
      "Subject to\n",
      " v - 3 x[1] + 2 x[2] + 5 x[3] ≤ 0\n",
      " v + x[1] - 4 x[2] + 6 x[3] ≤ 0\n",
      " v + 3 x[1] + x[2] - 2 x[3] ≤ 0\n",
      " x[1] + x[2] + x[3] = 1\n",
      " x[i] ≥ 0 ∀ i ∈ {1,2,3}\n",
      " v\n",
      "El mejor valor del juego es="
     ]
    },
    {
     "name": "stderr",
     "output_type": "stream",
     "text": [
      "┌ Warning: Deprecated syntax `implicit assignment to global variable `#639###685``.\n",
      "│ Use `global #639###685` instead.\n",
      "└ @ nothing none:0\n"
     ]
    },
    {
     "name": "stdout",
     "output_type": "stream",
     "text": [
      "-0.9082568807339455\n",
      "Las estrategias son[0.394495, 0.311927, 0.293578]\n",
      "v es igua a -0.9082568807339455\n"
     ]
    }
   ],
   "source": [
    "using JuMP,Cbc\n",
    "jugadorA=Model(solver=CbcSolver())\n",
    "@variables jugadorA begin\n",
    "    x[1:3]>=0\n",
    "    v\n",
    "end\n",
    "@objective(jugadorA,Max,v)\n",
    "@constraints jugadorA begin\n",
    "    v-3x[1]+2x[2]+5x[3]<=0\n",
    "    v+x[1]-4x[2]+6x[3]<=0\n",
    "    v+3x[1]+x[2]-2x[3]<=0\n",
    "    sum(x)==1\n",
    "end\n",
    "print(jugadorA)\n",
    "status=solve(jugadorA)\n",
    "println(\"El mejor valor del juego es=\",getobjectivevalue(jugadorA))\n",
    "println(\"Las estrategias son\",getvalue(x))\n",
    "println(\"v es igua a \",getvalue(v))"
   ]
  },
  {
   "cell_type": "markdown",
   "metadata": {},
   "source": [
    "## FORMULACION - JUGADOR B\n",
    "$$\n",
    "\\begin{array}{c}\n",
    " 👉\\operatorname{Minimizar} z=v\n",
    "\\end{array}\n",
    "$$ \n",
    "\n",
    "Sujeto a \n",
    "\n",
    "$$\n",
    "\\begin{array}{c}\n",
    "v-3 y_{1}+y_{2}+3 y_{3} \\geq 0\\\\\n",
    "v+2 y_{1}-4 y_{2}+y_{3} \\geq 0\\\\\n",
    "v+5 y_{1}+6 y_{2}-2 y_{3} \\geq 0\\\\\n",
    "y_{1}+y_{2}+y_{3}=1\\\\\n",
    "v \\ \\ irrestricta\n",
    "\\end{array}\n",
    "$$ "
   ]
  },
  {
   "cell_type": "code",
   "execution_count": 16,
   "metadata": {},
   "outputs": [
    {
     "name": "stdout",
     "output_type": "stream",
     "text": [
      "Min v\n",
      "Subject to\n",
      " v - 3 y[1] + y[2] + 3 y[3] ≥ 0\n",
      " v + 2 y[1] - 4 y[2] + y[3] ≥ 0\n",
      " v + 5 y[1] + 6 y[2] - 2 y[3] ≥ 0\n",
      " y[1] + y[2] + y[3] = 1\n",
      " y[i] ≥ 0 ∀ i ∈ {1,2,3}\n",
      " v\n",
      "El mejor valor del juego es-0.9082568807339451\n",
      "y es igual a[0.321101, 0.0825688, 0.59633]\n",
      "v es igual a -0.9082568807339451\n"
     ]
    },
    {
     "name": "stderr",
     "output_type": "stream",
     "text": [
      "┌ Warning: Deprecated syntax `implicit assignment to global variable `#696###712``.\n",
      "│ Use `global #696###712` instead.\n",
      "└ @ nothing none:0\n",
      "┌ Warning: Deprecated syntax `implicit assignment to global variable `#696###712``.\n",
      "│ Use `global #696###712` instead.\n",
      "└ @ nothing none:0\n",
      "┌ Warning: Deprecated syntax `implicit assignment to global variable `#700###714``.\n",
      "│ Use `global #700###714` instead.\n",
      "└ @ nothing none:0\n"
     ]
    }
   ],
   "source": [
    "using JuMP,Cbc\n",
    "\n",
    "jugadorB=Model(solver=CbcSolver())\n",
    "@variables jugadorB begin\n",
    "    y[1:3]>=0\n",
    "    v\n",
    "end\n",
    "@objective(jugadorB,Min,v)\n",
    "@constraints jugadorB begin\n",
    "    v-3y[1]+y[2]+3y[3]>=0\n",
    "    v+2y[1]-4y[2]+y[3]>=0\n",
    "    v+5y[1]+6y[2]-2y[3]>=0\n",
    "    sum(y)==1\n",
    "end\n",
    "print(jugadorB)\n",
    "status=solve(jugadorB)\n",
    "println(\"El mejor valor del juego es\",getobjectivevalue(jugadorB))\n",
    "println(\"y es igual a\",getvalue(y))\n",
    "println(\"v es igual a \",getvalue(v))"
   ]
  },
  {
   "cell_type": "markdown",
   "metadata": {},
   "source": [
    "|    x1    \t|    x2    \t|    x3    \t|\n",
    "|:--------:\t|:--------:\t|:--------:\t|\n",
    "| 0.394495 \t| 0.311927 \t| 0.293578 \t|\n",
    "\n",
    "|    y1    \t|     y2    \t|    y3   \t|\n",
    "|:--------:\t|:---------:\t|:-------:\t|\n",
    "| 0.321101 \t| 0.0825688 \t| 0.59633 \t|\n",
    "\n",
    "\n",
    "\n",
    "# Fin de este recurso 🏁"
   ]
  }
 ],
 "metadata": {
  "hide_input": false,
  "kernelspec": {
   "display_name": "Julia 0.7.0",
   "language": "julia",
   "name": "julia-0.7"
  },
  "language_info": {
   "file_extension": ".jl",
   "mimetype": "application/julia",
   "name": "julia",
   "version": "0.7.0"
  },
  "latex_envs": {
   "LaTeX_envs_menu_present": true,
   "autocomplete": true,
   "bibliofile": "biblio.bib",
   "cite_by": "apalike",
   "current_citInitial": 1,
   "eqLabelWithNumbers": true,
   "eqNumInitial": 1,
   "hotkeys": {
    "equation": "Ctrl-E",
    "itemize": "Ctrl-I"
   },
   "labels_anchors": false,
   "latex_user_defs": false,
   "report_style_numbering": true,
   "user_envs_cfg": true
  },
  "nbTranslate": {
   "displayLangs": [
    "*"
   ],
   "hotkey": "alt-t",
   "langInMainMenu": true,
   "sourceLang": "en",
   "targetLang": "fr",
   "useGoogleTranslate": true
  },
  "toc": {
   "colors": {
    "hover_highlight": "#DAA520",
    "running_highlight": "#FF0000",
    "selected_highlight": "#FFD700"
   },
   "moveMenuLeft": true,
   "nav_menu": {
    "height": "124px",
    "width": "254px"
   },
   "navigate_menu": true,
   "number_sections": true,
   "sideBar": true,
   "threshold": 4,
   "toc_cell": false,
   "toc_section_display": "block",
   "toc_window_display": false,
   "widenNotebook": false
  }
 },
 "nbformat": 4,
 "nbformat_minor": 2
}
